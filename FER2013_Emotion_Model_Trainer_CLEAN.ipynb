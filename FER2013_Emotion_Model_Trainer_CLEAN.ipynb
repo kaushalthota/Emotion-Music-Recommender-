{
 "cells": [
  {
   "cell_type": "markdown",
   "id": "93278013",
   "metadata": {},
   "source": [
    "# 🤖 Train an Emotion Detection Model using FER-2013"
   ]
  },
  {
   "cell_type": "code",
   "execution_count": null,
   "id": "e7136ca5",
   "metadata": {},
   "outputs": [],
   "source": [
    "# Step 1: Upload FER-2013 dataset CSV (fer2013.csv)\n",
    "from google.colab import files\n",
    "uploaded = files.upload()"
   ]
  },
  {
   "cell_type": "code",
   "execution_count": null,
   "id": "37ed3de1",
   "metadata": {},
   "outputs": [],
   "source": [
    "# Step 2: Preprocess the data\n",
    "import pandas as pd\n",
    "import numpy as np\n",
    "from sklearn.model_selection import train_test_split\n",
    "from tensorflow.keras.utils import to_categorical\n",
    "\n",
    "data = pd.read_csv('fer2013.csv')\n",
    "pixels = data['pixels'].tolist()\n",
    "\n",
    "faces = []\n",
    "for pixel_sequence in pixels:\n",
    "    face = [int(pixel) for pixel in pixel_sequence.split(' ')]\n",
    "    face = np.asarray(face).reshape(48, 48)\n",
    "    faces.append(face.astype('float32'))\n",
    "\n",
    "faces = np.asarray(faces)\n",
    "faces = np.expand_dims(faces, -1)\n",
    "faces /= 255.0\n",
    "\n",
    "emotions = pd.get_dummies(data['emotion']).values\n",
    "x_train, x_val, y_train, y_val = train_test_split(faces, emotions, test_size=0.2, random_state=42)"
   ]
  },
  {
   "cell_type": "code",
   "execution_count": null,
   "id": "7f6a4149",
   "metadata": {},
   "outputs": [],
   "source": [
    "# Step 3: Build and train the model\n",
    "from tensorflow.keras.models import Sequential\n",
    "from tensorflow.keras.layers import Conv2D, MaxPooling2D, Flatten, Dense, Dropout\n",
    "from tensorflow.keras.optimizers import Adam\n",
    "\n",
    "model = Sequential([\n",
    "    Conv2D(32, (3, 3), activation='relu', input_shape=(48, 48, 1)),\n",
    "    MaxPooling2D(2, 2),\n",
    "    Conv2D(64, (3, 3), activation='relu'),\n",
    "    MaxPooling2D(2, 2),\n",
    "    Flatten(),\n",
    "    Dense(128, activation='relu'),\n",
    "    Dropout(0.5),\n",
    "    Dense(7, activation='softmax')\n",
    "])\n",
    "\n",
    "model.compile(optimizer=Adam(), loss='categorical_crossentropy', metrics=['accuracy'])\n",
    "model.fit(x_train, y_train, validation_data=(x_val, y_val), epochs=10, batch_size=64)"
   ]
  },
  {
   "cell_type": "code",
   "execution_count": null,
   "id": "a76a1d41",
   "metadata": {},
   "outputs": [],
   "source": [
    "# Step 4: Save the model\n",
    "model.save('emotion_model.h5')"
   ]
  },
  {
   "cell_type": "code",
   "execution_count": null,
   "id": "7e39956a",
   "metadata": {},
   "outputs": [],
   "source": [
    "# Step 5: Download the model\n",
    "from google.colab import files\n",
    "files.download('emotion_model.h5')"
   ]
  }
 ],
 "metadata": {},
 "nbformat": 4,
 "nbformat_minor": 5
}
